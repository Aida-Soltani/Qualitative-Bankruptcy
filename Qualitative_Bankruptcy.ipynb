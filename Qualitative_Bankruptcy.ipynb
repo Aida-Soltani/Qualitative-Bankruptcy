{
 "cells": [
  {
   "cell_type": "markdown",
   "id": "3cd9dccb",
   "metadata": {},
   "source": [
    "## Qualitative_Bankruptcy"
   ]
  },
  {
   "cell_type": "markdown",
   "id": "397a9885",
   "metadata": {},
   "source": [
    "**Requirements**\n",
    "- data: 'Qualitative_Bankruptcy.data.csv'\n",
    "- Libraries: pandas, numpy, sklearn, lightgbm\n",
    "- Visaualization libraries : matplotlib.pyplot, seaborn"
   ]
  },
  {
   "cell_type": "code",
   "execution_count": 286,
   "id": "3471be4d",
   "metadata": {},
   "outputs": [],
   "source": [
    "# importing libraries in python\n",
    "\n",
    "import pandas as pd\n",
    "import numpy as np\n",
    "from numpy import mean\n",
    "from numpy import std\n",
    "import matplotlib.pyplot as plt\n",
    "import seaborn as sns\n",
    "from sklearn import preprocessing\n",
    "from sklearn.preprocessing import LabelEncoder,OneHotEncoder\n",
    "from sklearn.preprocessing import StandardScaler\n",
    "from sklearn import model_selection\n",
    "from sklearn.model_selection import train_test_split,KFold\n",
    "from sklearn.linear_model import LogisticRegression\n",
    "from sklearn.metrics import accuracy_score,roc_curve\n",
    "from sklearn.metrics import classification_report, confusion_matrix\n",
    "from sklearn.model_selection import cross_val_score\n",
    "from sklearn.metrics import f1_score, precision_score, recall_score, roc_auc_score\n",
    "from sklearn.ensemble import GradientBoostingClassifier\n",
    "from sklearn.neighbors import KNeighborsClassifier\n",
    "from sklearn.svm import SVC \n",
    "import lightgbm as lgb\n",
    "from sklearn import metrics\n",
    "import statsmodels.api as sm\n",
    "\n",
    "pd.set_option('max_columns', None)\n",
    "import warnings\n",
    "warnings.filterwarnings(action='ignore')"
   ]
  },
  {
   "cell_type": "markdown",
   "id": "d05a4116",
   "metadata": {},
   "source": [
    "## DATA ANALYSIS"
   ]
  },
  {
   "cell_type": "code",
   "execution_count": 228,
   "id": "2d1b4e81",
   "metadata": {},
   "outputs": [],
   "source": [
    "# Loading the dataset\n",
    "df = pd.read_csv('Qualitative_Bankruptcy.data.csv')"
   ]
  },
  {
   "cell_type": "code",
   "execution_count": 229,
   "id": "d686507b",
   "metadata": {},
   "outputs": [
    {
     "data": {
      "text/html": [
       "<div>\n",
       "<style scoped>\n",
       "    .dataframe tbody tr th:only-of-type {\n",
       "        vertical-align: middle;\n",
       "    }\n",
       "\n",
       "    .dataframe tbody tr th {\n",
       "        vertical-align: top;\n",
       "    }\n",
       "\n",
       "    .dataframe thead th {\n",
       "        text-align: right;\n",
       "    }\n",
       "</style>\n",
       "<table border=\"1\" class=\"dataframe\">\n",
       "  <thead>\n",
       "    <tr style=\"text-align: right;\">\n",
       "      <th></th>\n",
       "      <th>IR</th>\n",
       "      <th>MR</th>\n",
       "      <th>FF</th>\n",
       "      <th>CR</th>\n",
       "      <th>CO</th>\n",
       "      <th>OP</th>\n",
       "      <th>class</th>\n",
       "    </tr>\n",
       "  </thead>\n",
       "  <tbody>\n",
       "    <tr>\n",
       "      <th>0</th>\n",
       "      <td>P</td>\n",
       "      <td>P</td>\n",
       "      <td>A</td>\n",
       "      <td>A</td>\n",
       "      <td>A</td>\n",
       "      <td>P</td>\n",
       "      <td>NB</td>\n",
       "    </tr>\n",
       "    <tr>\n",
       "      <th>1</th>\n",
       "      <td>N</td>\n",
       "      <td>N</td>\n",
       "      <td>A</td>\n",
       "      <td>A</td>\n",
       "      <td>A</td>\n",
       "      <td>N</td>\n",
       "      <td>NB</td>\n",
       "    </tr>\n",
       "    <tr>\n",
       "      <th>2</th>\n",
       "      <td>A</td>\n",
       "      <td>A</td>\n",
       "      <td>A</td>\n",
       "      <td>A</td>\n",
       "      <td>A</td>\n",
       "      <td>A</td>\n",
       "      <td>NB</td>\n",
       "    </tr>\n",
       "    <tr>\n",
       "      <th>3</th>\n",
       "      <td>P</td>\n",
       "      <td>P</td>\n",
       "      <td>P</td>\n",
       "      <td>P</td>\n",
       "      <td>P</td>\n",
       "      <td>P</td>\n",
       "      <td>NB</td>\n",
       "    </tr>\n",
       "    <tr>\n",
       "      <th>4</th>\n",
       "      <td>N</td>\n",
       "      <td>N</td>\n",
       "      <td>P</td>\n",
       "      <td>P</td>\n",
       "      <td>P</td>\n",
       "      <td>N</td>\n",
       "      <td>NB</td>\n",
       "    </tr>\n",
       "  </tbody>\n",
       "</table>\n",
       "</div>"
      ],
      "text/plain": [
       "  IR MR FF CR CO OP class\n",
       "0  P  P  A  A  A  P    NB\n",
       "1  N  N  A  A  A  N    NB\n",
       "2  A  A  A  A  A  A    NB\n",
       "3  P  P  P  P  P  P    NB\n",
       "4  N  N  P  P  P  N    NB"
      ]
     },
     "execution_count": 229,
     "metadata": {},
     "output_type": "execute_result"
    }
   ],
   "source": [
    "# Printing first 5 rows of the data\n",
    "df.head()"
   ]
  },
  {
   "cell_type": "markdown",
   "id": "1984dda9",
   "metadata": {},
   "source": [
    "**Features:**\n",
    "- IR : Industrial Risk\n",
    "- MR : Management Risk\n",
    "- FF : Financial Flexibility\n",
    "- CR : Credibility\n",
    "- CO : Competitiveness\n",
    "- OP : Operating Risk\n",
    "- class : label={B,NB}\n",
    "- B: Bankruptcy    NB: Non-Bankruptcy"
   ]
  },
  {
   "cell_type": "markdown",
   "id": "0ad2170a",
   "metadata": {},
   "source": [
    "**Value of the features:**  P : positive, A : Average, N : Negative"
   ]
  },
  {
   "cell_type": "code",
   "execution_count": 230,
   "id": "b798036f",
   "metadata": {},
   "outputs": [
    {
     "data": {
      "text/plain": [
       "(250, 7)"
      ]
     },
     "execution_count": 230,
     "metadata": {},
     "output_type": "execute_result"
    }
   ],
   "source": [
    "# Number of records(rows) and columns\n",
    "df.shape"
   ]
  },
  {
   "cell_type": "code",
   "execution_count": 231,
   "id": "e28cf54e",
   "metadata": {},
   "outputs": [
    {
     "name": "stdout",
     "output_type": "stream",
     "text": [
      "<class 'pandas.core.frame.DataFrame'>\n",
      "RangeIndex: 250 entries, 0 to 249\n",
      "Data columns (total 7 columns):\n",
      " #   Column  Non-Null Count  Dtype \n",
      "---  ------  --------------  ----- \n",
      " 0   IR      250 non-null    object\n",
      " 1   MR      250 non-null    object\n",
      " 2   FF      250 non-null    object\n",
      " 3   CR      250 non-null    object\n",
      " 4   CO      250 non-null    object\n",
      " 5   OP      250 non-null    object\n",
      " 6   class   250 non-null    object\n",
      "dtypes: object(7)\n",
      "memory usage: 13.8+ KB\n"
     ]
    }
   ],
   "source": [
    "# Getting the informations about the data\n",
    "df.info()"
   ]
  },
  {
   "cell_type": "code",
   "execution_count": 232,
   "id": "cd280976",
   "metadata": {},
   "outputs": [
    {
     "data": {
      "text/plain": [
       "<AxesSubplot:xlabel='class', ylabel='count'>"
      ]
     },
     "execution_count": 232,
     "metadata": {},
     "output_type": "execute_result"
    },
    {
     "data": {
      "image/png": "[encoded data removed]",
      "text/plain": [
       "<Figure size 432x288 with 1 Axes>"
      ]
     },
     "metadata": {
      "needs_background": "light"
     },
     "output_type": "display_data"
    }
   ],
   "source": [
    "# check if the data os balanced or imbalanced\n",
    "sns.countplot(df['class'], label = \"Count\")"
   ]
  },
  {
   "cell_type": "code",
   "execution_count": 233,
   "id": "fb381a7d",
   "metadata": {},
   "outputs": [
    {
     "name": "stdout",
     "output_type": "stream",
     "text": [
      "42.80% of the dataset is considered class = B\n",
      "57.20% of the dataset is considered class = NB\n"
     ]
    }
   ],
   "source": [
    "# check if the data os balanced or imbalanced\n",
    "df_class_B = df[df['class']=='B'].value_counts().sum()\n",
    "df_class_NB = df[df['class']=='NB'].value_counts().sum()\n",
    "perc_class_B = df_class_B/(df_class_B+df_class_NB)\n",
    "perc_class_NB = df_class_NB/(df_class_B+df_class_NB)\n",
    "print('{:.2f}%'.format(perc_class_B*100), 'of the dataset is considered class = B' )\n",
    "print('{:.2f}%'.format(perc_class_NB*100), 'of the dataset is considered class = NB' )"
   ]
  },
  {
   "cell_type": "markdown",
   "id": "54f9817c",
   "metadata": {},
   "source": [
    "**** Understanding dataset:\n",
    "1. Our dataset has 7 columns which includes 6 features and one label/target ('class')\n",
    "2. Number of Instances/rows/records : 250\n",
    "3. As we can see almost 43% of the data is considered class = B and 57% is considered class = NB. We can say that our classes are slightly imbalanced."
   ]
  },
  {
   "cell_type": "markdown",
   "id": "cd9d71ac",
   "metadata": {},
   "source": [
    "## DATA PREPROCESSING"
   ]
  },
  {
   "cell_type": "code",
   "execution_count": 234,
   "id": "11ff209f",
   "metadata": {},
   "outputs": [
    {
     "data": {
      "text/plain": [
       "IR       0\n",
       "MR       0\n",
       "FF       0\n",
       "CR       0\n",
       "CO       0\n",
       "OP       0\n",
       "class    0\n",
       "dtype: int64"
      ]
     },
     "execution_count": 234,
     "metadata": {},
     "output_type": "execute_result"
    }
   ],
   "source": [
    "# Check if there is any NAN_value in the data\n",
    "df.isnull().sum()"
   ]
  },
  {
   "cell_type": "code",
   "execution_count": 235,
   "id": "0b437981",
   "metadata": {},
   "outputs": [],
   "source": [
    "# Splitting the data into features(x) and label(y)\n",
    "x=df.drop('class',axis='columns')\n",
    "y=df['class']"
   ]
  },
  {
   "cell_type": "code",
   "execution_count": 236,
   "id": "73b0cb42",
   "metadata": {},
   "outputs": [],
   "source": [
    "# We don't have any nan-value or missing_value in our data :)"
   ]
  },
  {
   "cell_type": "markdown",
   "id": "f20fa1c3",
   "metadata": {},
   "source": [
    "**Feature encoding for categorical column**\n",
    "- The conventional way of performing encoding for categorical variable is using one hot encoding. For our case, since the dataset is quite small with few fearure columns, using onehot encoding would not lead to memory and computation overhead.\n",
    "- Another possibility is to use label encoder since positive, average and negative values have an inherent order in it under the risk perspective (negative < average < positive).\n",
    "- Therefore, in this section we will perform a quick analysis and comparison between these two encodings. We specifically use, logistic regression and KNN classifiers to identify the differences.\n",
    "- **one_hot_encoding:** represents the categorical data in the form of binary vectors. Becasue we have only 6 categorical features and it doesn't add too many features to the dataset we can use it.\n",
    "- **label-encoding:** replace the categorical value with a numeric value between 0 and the number of classes minus 1. Advantage of the label Encoding is we don't add more features to the data.\n"
   ]
  },
  {
   "cell_type": "markdown",
   "id": "22da2102",
   "metadata": {},
   "source": [
    "**label-encoding**"
   ]
  },
  {
   "cell_type": "code",
   "execution_count": 237,
   "id": "8bce78c1",
   "metadata": {},
   "outputs": [
    {
     "data": {
      "text/html": [
       "<div>\n",
       "<style scoped>\n",
       "    .dataframe tbody tr th:only-of-type {\n",
       "        vertical-align: middle;\n",
       "    }\n",
       "\n",
       "    .dataframe tbody tr th {\n",
       "        vertical-align: top;\n",
       "    }\n",
       "\n",
       "    .dataframe thead th {\n",
       "        text-align: right;\n",
       "    }\n",
       "</style>\n",
       "<table border=\"1\" class=\"dataframe\">\n",
       "  <thead>\n",
       "    <tr style=\"text-align: right;\">\n",
       "      <th></th>\n",
       "      <th>class</th>\n",
       "    </tr>\n",
       "  </thead>\n",
       "  <tbody>\n",
       "    <tr>\n",
       "      <th>0</th>\n",
       "      <td>NB</td>\n",
       "    </tr>\n",
       "    <tr>\n",
       "      <th>1</th>\n",
       "      <td>NB</td>\n",
       "    </tr>\n",
       "    <tr>\n",
       "      <th>2</th>\n",
       "      <td>NB</td>\n",
       "    </tr>\n",
       "    <tr>\n",
       "      <th>3</th>\n",
       "      <td>NB</td>\n",
       "    </tr>\n",
       "    <tr>\n",
       "      <th>4</th>\n",
       "      <td>NB</td>\n",
       "    </tr>\n",
       "  </tbody>\n",
       "</table>\n",
       "</div>"
      ],
      "text/plain": [
       "  class\n",
       "0    NB\n",
       "1    NB\n",
       "2    NB\n",
       "3    NB\n",
       "4    NB"
      ]
     },
     "execution_count": 237,
     "metadata": {},
     "output_type": "execute_result"
    }
   ],
   "source": [
    "y_df = pd.DataFrame(y)\n",
    "y_df.head()"
   ]
  },
  {
   "cell_type": "code",
   "execution_count": 238,
   "id": "0d558ab2",
   "metadata": {},
   "outputs": [
    {
     "data": {
      "text/html": [
       "<div>\n",
       "<style scoped>\n",
       "    .dataframe tbody tr th:only-of-type {\n",
       "        vertical-align: middle;\n",
       "    }\n",
       "\n",
       "    .dataframe tbody tr th {\n",
       "        vertical-align: top;\n",
       "    }\n",
       "\n",
       "    .dataframe thead th {\n",
       "        text-align: right;\n",
       "    }\n",
       "</style>\n",
       "<table border=\"1\" class=\"dataframe\">\n",
       "  <thead>\n",
       "    <tr style=\"text-align: right;\">\n",
       "      <th></th>\n",
       "      <th>IR</th>\n",
       "      <th>MR</th>\n",
       "      <th>FF</th>\n",
       "      <th>CR</th>\n",
       "      <th>CO</th>\n",
       "      <th>OP</th>\n",
       "    </tr>\n",
       "  </thead>\n",
       "  <tbody>\n",
       "    <tr>\n",
       "      <th>0</th>\n",
       "      <td>2</td>\n",
       "      <td>2</td>\n",
       "      <td>0</td>\n",
       "      <td>0</td>\n",
       "      <td>0</td>\n",
       "      <td>2</td>\n",
       "    </tr>\n",
       "    <tr>\n",
       "      <th>1</th>\n",
       "      <td>1</td>\n",
       "      <td>1</td>\n",
       "      <td>0</td>\n",
       "      <td>0</td>\n",
       "      <td>0</td>\n",
       "      <td>1</td>\n",
       "    </tr>\n",
       "    <tr>\n",
       "      <th>2</th>\n",
       "      <td>0</td>\n",
       "      <td>0</td>\n",
       "      <td>0</td>\n",
       "      <td>0</td>\n",
       "      <td>0</td>\n",
       "      <td>0</td>\n",
       "    </tr>\n",
       "    <tr>\n",
       "      <th>3</th>\n",
       "      <td>2</td>\n",
       "      <td>2</td>\n",
       "      <td>2</td>\n",
       "      <td>2</td>\n",
       "      <td>2</td>\n",
       "      <td>2</td>\n",
       "    </tr>\n",
       "    <tr>\n",
       "      <th>4</th>\n",
       "      <td>1</td>\n",
       "      <td>1</td>\n",
       "      <td>2</td>\n",
       "      <td>2</td>\n",
       "      <td>2</td>\n",
       "      <td>1</td>\n",
       "    </tr>\n",
       "  </tbody>\n",
       "</table>\n",
       "</div>"
      ],
      "text/plain": [
       "   IR  MR  FF  CR  CO  OP\n",
       "0   2   2   0   0   0   2\n",
       "1   1   1   0   0   0   1\n",
       "2   0   0   0   0   0   0\n",
       "3   2   2   2   2   2   2\n",
       "4   1   1   2   2   2   1"
      ]
     },
     "execution_count": 238,
     "metadata": {},
     "output_type": "execute_result"
    }
   ],
   "source": [
    "# Applying label encoding on all the features \n",
    "le = preprocessing.LabelEncoder()\n",
    "x_le = x.apply(le.fit_transform)\n",
    "x_le.head()"
   ]
  },
  {
   "cell_type": "code",
   "execution_count": 239,
   "id": "efae7091",
   "metadata": {},
   "outputs": [
    {
     "data": {
      "text/html": [
       "<div>\n",
       "<style scoped>\n",
       "    .dataframe tbody tr th:only-of-type {\n",
       "        vertical-align: middle;\n",
       "    }\n",
       "\n",
       "    .dataframe tbody tr th {\n",
       "        vertical-align: top;\n",
       "    }\n",
       "\n",
       "    .dataframe thead th {\n",
       "        text-align: right;\n",
       "    }\n",
       "</style>\n",
       "<table border=\"1\" class=\"dataframe\">\n",
       "  <thead>\n",
       "    <tr style=\"text-align: right;\">\n",
       "      <th></th>\n",
       "      <th>class</th>\n",
       "    </tr>\n",
       "  </thead>\n",
       "  <tbody>\n",
       "    <tr>\n",
       "      <th>0</th>\n",
       "      <td>1</td>\n",
       "    </tr>\n",
       "    <tr>\n",
       "      <th>1</th>\n",
       "      <td>1</td>\n",
       "    </tr>\n",
       "    <tr>\n",
       "      <th>2</th>\n",
       "      <td>1</td>\n",
       "    </tr>\n",
       "    <tr>\n",
       "      <th>3</th>\n",
       "      <td>1</td>\n",
       "    </tr>\n",
       "    <tr>\n",
       "      <th>4</th>\n",
       "      <td>1</td>\n",
       "    </tr>\n",
       "  </tbody>\n",
       "</table>\n",
       "</div>"
      ],
      "text/plain": [
       "   class\n",
       "0      1\n",
       "1      1\n",
       "2      1\n",
       "3      1\n",
       "4      1"
      ]
     },
     "execution_count": 239,
     "metadata": {},
     "output_type": "execute_result"
    }
   ],
   "source": [
    "le = preprocessing.LabelEncoder()\n",
    "y_le = y_df.apply(le.fit_transform)\n",
    "y_le.head()"
   ]
  },
  {
   "cell_type": "markdown",
   "id": "395688cc",
   "metadata": {},
   "source": [
    "- class = 1 : 'NB'\n",
    "- class = 0 : B'"
   ]
  },
  {
   "cell_type": "markdown",
   "id": "0aaa3511",
   "metadata": {},
   "source": [
    "**one_hot_encoding**"
   ]
  },
  {
   "cell_type": "code",
   "execution_count": 240,
   "id": "bcf5596d",
   "metadata": {},
   "outputs": [],
   "source": [
    "ohe=OneHotEncoder(handle_unknown=\"ignore\",sparse=False)\n",
    "x_ohe = pd.DataFrame (ohe.fit_transform(x))\n",
    "x_ohe.columns = ohe.get_feature_names(x.columns)"
   ]
  },
  {
   "cell_type": "code",
   "execution_count": 241,
   "id": "f1bd89ae",
   "metadata": {},
   "outputs": [
    {
     "data": {
      "text/html": [
       "<div>\n",
       "<style scoped>\n",
       "    .dataframe tbody tr th:only-of-type {\n",
       "        vertical-align: middle;\n",
       "    }\n",
       "\n",
       "    .dataframe tbody tr th {\n",
       "        vertical-align: top;\n",
       "    }\n",
       "\n",
       "    .dataframe thead th {\n",
       "        text-align: right;\n",
       "    }\n",
       "</style>\n",
       "<table border=\"1\" class=\"dataframe\">\n",
       "  <thead>\n",
       "    <tr style=\"text-align: right;\">\n",
       "      <th></th>\n",
       "      <th>IR_A</th>\n",
       "      <th>IR_N</th>\n",
       "      <th>IR_P</th>\n",
       "      <th>MR_A</th>\n",
       "      <th>MR_N</th>\n",
       "      <th>MR_P</th>\n",
       "      <th>FF_A</th>\n",
       "      <th>FF_N</th>\n",
       "      <th>FF_P</th>\n",
       "      <th>CR_A</th>\n",
       "      <th>CR_N</th>\n",
       "      <th>CR_P</th>\n",
       "      <th>CO_A</th>\n",
       "      <th>CO_N</th>\n",
       "      <th>CO_P</th>\n",
       "      <th>OP_A</th>\n",
       "      <th>OP_N</th>\n",
       "      <th>OP_P</th>\n",
       "    </tr>\n",
       "  </thead>\n",
       "  <tbody>\n",
       "    <tr>\n",
       "      <th>0</th>\n",
       "      <td>0.0</td>\n",
       "      <td>0.0</td>\n",
       "      <td>1.0</td>\n",
       "      <td>0.0</td>\n",
       "      <td>0.0</td>\n",
       "      <td>1.0</td>\n",
       "      <td>1.0</td>\n",
       "      <td>0.0</td>\n",
       "      <td>0.0</td>\n",
       "      <td>1.0</td>\n",
       "      <td>0.0</td>\n",
       "      <td>0.0</td>\n",
       "      <td>1.0</td>\n",
       "      <td>0.0</td>\n",
       "      <td>0.0</td>\n",
       "      <td>0.0</td>\n",
       "      <td>0.0</td>\n",
       "      <td>1.0</td>\n",
       "    </tr>\n",
       "    <tr>\n",
       "      <th>1</th>\n",
       "      <td>0.0</td>\n",
       "      <td>1.0</td>\n",
       "      <td>0.0</td>\n",
       "      <td>0.0</td>\n",
       "      <td>1.0</td>\n",
       "      <td>0.0</td>\n",
       "      <td>1.0</td>\n",
       "      <td>0.0</td>\n",
       "      <td>0.0</td>\n",
       "      <td>1.0</td>\n",
       "      <td>0.0</td>\n",
       "      <td>0.0</td>\n",
       "      <td>1.0</td>\n",
       "      <td>0.0</td>\n",
       "      <td>0.0</td>\n",
       "      <td>0.0</td>\n",
       "      <td>1.0</td>\n",
       "      <td>0.0</td>\n",
       "    </tr>\n",
       "    <tr>\n",
       "      <th>2</th>\n",
       "      <td>1.0</td>\n",
       "      <td>0.0</td>\n",
       "      <td>0.0</td>\n",
       "      <td>1.0</td>\n",
       "      <td>0.0</td>\n",
       "      <td>0.0</td>\n",
       "      <td>1.0</td>\n",
       "      <td>0.0</td>\n",
       "      <td>0.0</td>\n",
       "      <td>1.0</td>\n",
       "      <td>0.0</td>\n",
       "      <td>0.0</td>\n",
       "      <td>1.0</td>\n",
       "      <td>0.0</td>\n",
       "      <td>0.0</td>\n",
       "      <td>1.0</td>\n",
       "      <td>0.0</td>\n",
       "      <td>0.0</td>\n",
       "    </tr>\n",
       "    <tr>\n",
       "      <th>3</th>\n",
       "      <td>0.0</td>\n",
       "      <td>0.0</td>\n",
       "      <td>1.0</td>\n",
       "      <td>0.0</td>\n",
       "      <td>0.0</td>\n",
       "      <td>1.0</td>\n",
       "      <td>0.0</td>\n",
       "      <td>0.0</td>\n",
       "      <td>1.0</td>\n",
       "      <td>0.0</td>\n",
       "      <td>0.0</td>\n",
       "      <td>1.0</td>\n",
       "      <td>0.0</td>\n",
       "      <td>0.0</td>\n",
       "      <td>1.0</td>\n",
       "      <td>0.0</td>\n",
       "      <td>0.0</td>\n",
       "      <td>1.0</td>\n",
       "    </tr>\n",
       "    <tr>\n",
       "      <th>4</th>\n",
       "      <td>0.0</td>\n",
       "      <td>1.0</td>\n",
       "      <td>0.0</td>\n",
       "      <td>0.0</td>\n",
       "      <td>1.0</td>\n",
       "      <td>0.0</td>\n",
       "      <td>0.0</td>\n",
       "      <td>0.0</td>\n",
       "      <td>1.0</td>\n",
       "      <td>0.0</td>\n",
       "      <td>0.0</td>\n",
       "      <td>1.0</td>\n",
       "      <td>0.0</td>\n",
       "      <td>0.0</td>\n",
       "      <td>1.0</td>\n",
       "      <td>0.0</td>\n",
       "      <td>1.0</td>\n",
       "      <td>0.0</td>\n",
       "    </tr>\n",
       "  </tbody>\n",
       "</table>\n",
       "</div>"
      ],
      "text/plain": [
       "   IR_A  IR_N  IR_P  MR_A  MR_N  MR_P  FF_A  FF_N  FF_P  CR_A  CR_N  CR_P  \\\n",
       "0   0.0   0.0   1.0   0.0   0.0   1.0   1.0   0.0   0.0   1.0   0.0   0.0   \n",
       "1   0.0   1.0   0.0   0.0   1.0   0.0   1.0   0.0   0.0   1.0   0.0   0.0   \n",
       "2   1.0   0.0   0.0   1.0   0.0   0.0   1.0   0.0   0.0   1.0   0.0   0.0   \n",
       "3   0.0   0.0   1.0   0.0   0.0   1.0   0.0   0.0   1.0   0.0   0.0   1.0   \n",
       "4   0.0   1.0   0.0   0.0   1.0   0.0   0.0   0.0   1.0   0.0   0.0   1.0   \n",
       "\n",
       "   CO_A  CO_N  CO_P  OP_A  OP_N  OP_P  \n",
       "0   1.0   0.0   0.0   0.0   0.0   1.0  \n",
       "1   1.0   0.0   0.0   0.0   1.0   0.0  \n",
       "2   1.0   0.0   0.0   1.0   0.0   0.0  \n",
       "3   0.0   0.0   1.0   0.0   0.0   1.0  \n",
       "4   0.0   0.0   1.0   0.0   1.0   0.0  "
      ]
     },
     "execution_count": 241,
     "metadata": {},
     "output_type": "execute_result"
    }
   ],
   "source": [
    "x_ohe.head()"
   ]
  },
  {
   "cell_type": "code",
   "execution_count": 242,
   "id": "189358e1",
   "metadata": {},
   "outputs": [],
   "source": [
    "# In this data we don't have any outlier. Our features' type are object includes {P,A,N}"
   ]
  },
  {
   "cell_type": "code",
   "execution_count": 243,
   "id": "db6eb0bc",
   "metadata": {},
   "outputs": [],
   "source": [
    "# Train-test split\n",
    "x_train_ohe,x_test_ohe, y_train, y_test = train_test_split(x_ohe,y, test_size=0.2,random_state=42)\n",
    "x_train_le,x_test_le, y_train_le, y_test_le = train_test_split(x_le,y_le, test_size=0.2,random_state=42)"
   ]
  },
  {
   "cell_type": "markdown",
   "id": "b114f31d",
   "metadata": {},
   "source": [
    "**Train model with Logistik Regression**"
   ]
  },
  {
   "cell_type": "code",
   "execution_count": 244,
   "id": "1d7033c4",
   "metadata": {},
   "outputs": [
    {
     "data": {
      "text/plain": [
       "LogisticRegression(random_state=42)"
      ]
     },
     "execution_count": 244,
     "metadata": {},
     "output_type": "execute_result"
    }
   ],
   "source": [
    "lgreg = LogisticRegression(random_state = 42)\n",
    "lgreg.fit(x_ohe_train, y_train)"
   ]
  },
  {
   "cell_type": "code",
   "execution_count": 245,
   "id": "2bfd0027",
   "metadata": {},
   "outputs": [
    {
     "name": "stdout",
     "output_type": "stream",
     "text": [
      "accuracy of the logistik regreesion on the test data with one_hot_encoding 1.0\n",
      "accuracy of the logistik regreesion on the train data with one_hot_encoding 1.0\n"
     ]
    }
   ],
   "source": [
    "predict_test_ohe = lgreg.predict(x_ohe_test)\n",
    "predict_train_ohe = lgreg.predict(x_ohe_train)\n",
    "acc_test_ohe = accuracy_score(y_test, predict_test_ohe)\n",
    "acc_train_ohe = accuracy_score(y_train, predict_train_ohe)\n",
    "print('accuracy of the logistik regreesion on the test data with one_hot_encoding',acc_test_ohe)\n",
    "print('accuracy of the logistik regreesion on the train data with one_hot_encoding',acc_train_ohe)"
   ]
  },
  {
   "cell_type": "code",
   "execution_count": 246,
   "id": "686cb401",
   "metadata": {},
   "outputs": [
    {
     "data": {
      "text/plain": [
       "LogisticRegression(random_state=42)"
      ]
     },
     "execution_count": 246,
     "metadata": {},
     "output_type": "execute_result"
    }
   ],
   "source": [
    "lgreg = LogisticRegression(random_state = 42)\n",
    "lgreg.fit(x_le_train, y_train_le)"
   ]
  },
  {
   "cell_type": "code",
   "execution_count": 247,
   "id": "acac0d34",
   "metadata": {},
   "outputs": [
    {
     "name": "stdout",
     "output_type": "stream",
     "text": [
      "accuracy of the logistik regreesion on the test data with label encoder 0.62\n",
      "accuracy of the logistik regreesion on the train data with label encoder 0.54\n"
     ]
    }
   ],
   "source": [
    "predict_test_le = lgreg.predict(x_le_test)\n",
    "predict_train_le = lgreg.predict(x_le_train)\n",
    "acc_test_le = accuracy_score(y_test_le, predict_test_le)\n",
    "acc_train_le = accuracy_score(y_train_le, predict_train_le)\n",
    "print('accuracy of the logistik regreesion on the test data with label encoder',acc_test_le)\n",
    "print('accuracy of the logistik regreesion on the train data with label encoder',acc_train_le)"
   ]
  },
  {
   "cell_type": "markdown",
   "id": "266d3091",
   "metadata": {},
   "source": [
    "**Train model with Logistik Regression**"
   ]
  },
  {
   "cell_type": "code",
   "execution_count": 248,
   "id": "ca5a8eb7",
   "metadata": {},
   "outputs": [
    {
     "data": {
      "text/plain": [
       "KNeighborsClassifier()"
      ]
     },
     "execution_count": 248,
     "metadata": {},
     "output_type": "execute_result"
    }
   ],
   "source": [
    "knn = KNeighborsClassifier(n_neighbors=5)\n",
    "knn.fit(x_ohe_train, y_train)"
   ]
  },
  {
   "cell_type": "code",
   "execution_count": 249,
   "id": "d17594a9",
   "metadata": {},
   "outputs": [
    {
     "name": "stdout",
     "output_type": "stream",
     "text": [
      "accuracy of the KNN on the test data with one_hot_encoding 1.0\n",
      "accuracy of the KNN on the train data with one_hot_encoding 0.995\n"
     ]
    }
   ],
   "source": [
    "predict_test_ohe = knn.predict(x_ohe_test)\n",
    "predict_train_ohe = knn.predict(x_ohe_train)\n",
    "acc_test_ohe = accuracy_score(y_test, predict_test_ohe)\n",
    "acc_train_ohe = accuracy_score(y_train, predict_train_ohe)\n",
    "print('accuracy of the KNN on the test data with one_hot_encoding',acc_test_ohe)\n",
    "print('accuracy of the KNN on the train data with one_hot_encoding',acc_train_ohe)"
   ]
  },
  {
   "cell_type": "code",
   "execution_count": 250,
   "id": "102de21f",
   "metadata": {},
   "outputs": [
    {
     "data": {
      "text/plain": [
       "KNeighborsClassifier()"
      ]
     },
     "execution_count": 250,
     "metadata": {},
     "output_type": "execute_result"
    }
   ],
   "source": [
    "knn = KNeighborsClassifier(n_neighbors=5)\n",
    "knn.fit(x_le_train, y_train_le)"
   ]
  },
  {
   "cell_type": "code",
   "execution_count": 251,
   "id": "62dfe231",
   "metadata": {},
   "outputs": [
    {
     "name": "stdout",
     "output_type": "stream",
     "text": [
      "accuracy of the KNN on the test data with label encoder 0.98\n",
      "ccuracy of the KNN on the train data with label encode 0.99\n"
     ]
    }
   ],
   "source": [
    "predict_test_le = knn.predict(x_le_test)\n",
    "predict_train_le = knn.predict(x_le_train)\n",
    "acc_test_le = accuracy_score(y_test_le, predict_test_le)\n",
    "acc_train_le = accuracy_score(y_train_le, predict_train_le)\n",
    "print('accuracy of the KNN on the test data with label encoder',acc_test_le)\n",
    "print('ccuracy of the KNN on the train data with label encode',acc_train_le)"
   ]
  },
  {
   "cell_type": "markdown",
   "id": "4bd8f42d",
   "metadata": {},
   "source": [
    "- we could see that one hot encoding performs slightly higher than label encoder, however we do see that the classifiers trained on onehot may be overfitting on the training data more than the label encoder.\n",
    "- One reason behind this, is the limitation of one hot encoding, which is multicollinearity. For this let us do a quick analysis using Variance in Factor to identify this on the encoded onehot features"
   ]
  },
  {
   "cell_type": "code",
   "execution_count": 252,
   "id": "b433cb7f",
   "metadata": {},
   "outputs": [
    {
     "data": {
      "text/html": [
       "<div>\n",
       "<style scoped>\n",
       "    .dataframe tbody tr th:only-of-type {\n",
       "        vertical-align: middle;\n",
       "    }\n",
       "\n",
       "    .dataframe tbody tr th {\n",
       "        vertical-align: top;\n",
       "    }\n",
       "\n",
       "    .dataframe thead th {\n",
       "        text-align: right;\n",
       "    }\n",
       "</style>\n",
       "<table border=\"1\" class=\"dataframe\">\n",
       "  <thead>\n",
       "    <tr style=\"text-align: right;\">\n",
       "      <th></th>\n",
       "      <th>Var</th>\n",
       "      <th>Vif</th>\n",
       "    </tr>\n",
       "  </thead>\n",
       "  <tbody>\n",
       "    <tr>\n",
       "      <th>0</th>\n",
       "      <td>IR_A</td>\n",
       "      <td>inf</td>\n",
       "    </tr>\n",
       "    <tr>\n",
       "      <th>1</th>\n",
       "      <td>IR_N</td>\n",
       "      <td>inf</td>\n",
       "    </tr>\n",
       "    <tr>\n",
       "      <th>16</th>\n",
       "      <td>OP_N</td>\n",
       "      <td>inf</td>\n",
       "    </tr>\n",
       "    <tr>\n",
       "      <th>15</th>\n",
       "      <td>OP_A</td>\n",
       "      <td>inf</td>\n",
       "    </tr>\n",
       "    <tr>\n",
       "      <th>14</th>\n",
       "      <td>CO_P</td>\n",
       "      <td>inf</td>\n",
       "    </tr>\n",
       "    <tr>\n",
       "      <th>13</th>\n",
       "      <td>CO_N</td>\n",
       "      <td>inf</td>\n",
       "    </tr>\n",
       "    <tr>\n",
       "      <th>12</th>\n",
       "      <td>CO_A</td>\n",
       "      <td>inf</td>\n",
       "    </tr>\n",
       "    <tr>\n",
       "      <th>11</th>\n",
       "      <td>CR_P</td>\n",
       "      <td>inf</td>\n",
       "    </tr>\n",
       "    <tr>\n",
       "      <th>10</th>\n",
       "      <td>CR_N</td>\n",
       "      <td>inf</td>\n",
       "    </tr>\n",
       "    <tr>\n",
       "      <th>9</th>\n",
       "      <td>CR_A</td>\n",
       "      <td>inf</td>\n",
       "    </tr>\n",
       "    <tr>\n",
       "      <th>8</th>\n",
       "      <td>FF_P</td>\n",
       "      <td>inf</td>\n",
       "    </tr>\n",
       "    <tr>\n",
       "      <th>7</th>\n",
       "      <td>FF_N</td>\n",
       "      <td>inf</td>\n",
       "    </tr>\n",
       "    <tr>\n",
       "      <th>6</th>\n",
       "      <td>FF_A</td>\n",
       "      <td>inf</td>\n",
       "    </tr>\n",
       "    <tr>\n",
       "      <th>5</th>\n",
       "      <td>MR_P</td>\n",
       "      <td>inf</td>\n",
       "    </tr>\n",
       "    <tr>\n",
       "      <th>4</th>\n",
       "      <td>MR_N</td>\n",
       "      <td>inf</td>\n",
       "    </tr>\n",
       "    <tr>\n",
       "      <th>3</th>\n",
       "      <td>MR_A</td>\n",
       "      <td>inf</td>\n",
       "    </tr>\n",
       "    <tr>\n",
       "      <th>2</th>\n",
       "      <td>IR_P</td>\n",
       "      <td>inf</td>\n",
       "    </tr>\n",
       "    <tr>\n",
       "      <th>17</th>\n",
       "      <td>OP_P</td>\n",
       "      <td>inf</td>\n",
       "    </tr>\n",
       "  </tbody>\n",
       "</table>\n",
       "</div>"
      ],
      "text/plain": [
       "     Var  Vif\n",
       "0   IR_A  inf\n",
       "1   IR_N  inf\n",
       "16  OP_N  inf\n",
       "15  OP_A  inf\n",
       "14  CO_P  inf\n",
       "13  CO_N  inf\n",
       "12  CO_A  inf\n",
       "11  CR_P  inf\n",
       "10  CR_N  inf\n",
       "9   CR_A  inf\n",
       "8   FF_P  inf\n",
       "7   FF_N  inf\n",
       "6   FF_A  inf\n",
       "5   MR_P  inf\n",
       "4   MR_N  inf\n",
       "3   MR_A  inf\n",
       "2   IR_P  inf\n",
       "17  OP_P  inf"
      ]
     },
     "execution_count": 252,
     "metadata": {},
     "output_type": "execute_result"
    }
   ],
   "source": [
    "# Function to calculate VIF\n",
    "def calculate_vif(data):\n",
    "    vif_df = pd.DataFrame(columns = ['Var', 'Vif'])\n",
    "    x_var_names = data.columns\n",
    "    for i in range(0, x_var_names.shape[0]):\n",
    "        y = data[x_var_names[i]]\n",
    "        x = data[x_var_names.drop([x_var_names[i]])]\n",
    "        r_squared = sm.OLS(y,x).fit().rsquared\n",
    "        vif = round(1/(1-r_squared),2)\n",
    "        vif_df.loc[i] = [x_var_names[i], vif]\n",
    "    return vif_df.sort_values(by = 'Vif', axis = 0, ascending=False, inplace=False)\n",
    "\n",
    "#Variance in Factor for one_hot_encoding\n",
    "calculate_vif(x_ohe)"
   ]
  },
  {
   "cell_type": "code",
   "execution_count": 253,
   "id": "b4968639",
   "metadata": {},
   "outputs": [
    {
     "data": {
      "text/html": [
       "<div>\n",
       "<style scoped>\n",
       "    .dataframe tbody tr th:only-of-type {\n",
       "        vertical-align: middle;\n",
       "    }\n",
       "\n",
       "    .dataframe tbody tr th {\n",
       "        vertical-align: top;\n",
       "    }\n",
       "\n",
       "    .dataframe thead th {\n",
       "        text-align: right;\n",
       "    }\n",
       "</style>\n",
       "<table border=\"1\" class=\"dataframe\">\n",
       "  <thead>\n",
       "    <tr style=\"text-align: right;\">\n",
       "      <th></th>\n",
       "      <th>Var</th>\n",
       "      <th>Vif</th>\n",
       "    </tr>\n",
       "  </thead>\n",
       "  <tbody>\n",
       "    <tr>\n",
       "      <th>5</th>\n",
       "      <td>OP</td>\n",
       "      <td>3.14</td>\n",
       "    </tr>\n",
       "    <tr>\n",
       "      <th>4</th>\n",
       "      <td>CO</td>\n",
       "      <td>2.84</td>\n",
       "    </tr>\n",
       "    <tr>\n",
       "      <th>1</th>\n",
       "      <td>MR</td>\n",
       "      <td>2.69</td>\n",
       "    </tr>\n",
       "    <tr>\n",
       "      <th>0</th>\n",
       "      <td>IR</td>\n",
       "      <td>2.52</td>\n",
       "    </tr>\n",
       "    <tr>\n",
       "      <th>2</th>\n",
       "      <td>FF</td>\n",
       "      <td>2.42</td>\n",
       "    </tr>\n",
       "    <tr>\n",
       "      <th>3</th>\n",
       "      <td>CR</td>\n",
       "      <td>2.34</td>\n",
       "    </tr>\n",
       "  </tbody>\n",
       "</table>\n",
       "</div>"
      ],
      "text/plain": [
       "  Var   Vif\n",
       "5  OP  3.14\n",
       "4  CO  2.84\n",
       "1  MR  2.69\n",
       "0  IR  2.52\n",
       "2  FF  2.42\n",
       "3  CR  2.34"
      ]
     },
     "execution_count": 253,
     "metadata": {},
     "output_type": "execute_result"
    }
   ],
   "source": [
    "#Variance in Factor for label encoding\n",
    "calculate_vif(x_le)"
   ]
  },
  {
   "cell_type": "markdown",
   "id": "e8c3786c",
   "metadata": {},
   "source": [
    "- Multicolinearity create more problems in a regression setting but it can affect classification too especially in terms of interpretability.   \n",
    "- Multi-colinearity is not useful for logistic regression cause this model requires there to be a little or no multicollinearity among the independent variables (from the assumptions of logistic regression). That is why we see that our model trained on one-hot encoding seems to overfit on the training data. This might lead to poor generalization.  In addition, under decision tree classifiers, with multicollinear features, the model becomes unreliable. Indeed, if feature importance is performed, the tree chooses any of the collinear features to create split and hence the importance of a feature is then divided.  If a permutation approach is chosen, any of the collinear features will be permuted leading to misleading results. \n",
    "- After calculating the VIF factors on both Label encoded features and one-hot encoded, the label encoded ones show moderate collinearity when compared to the one-hot encoded features. "
   ]
  },
  {
   "cell_type": "markdown",
   "id": "74917279",
   "metadata": {},
   "source": [
    "## Model Training\n",
    "Since our problem is a binary classification we choose these models to train our model then  we evaluate our models and choose the best one.\n",
    "\n",
    "1. KNN\n",
    "2. SVM\n",
    "3. LightGBM\n",
    "3. GradientBoosting\n",
    "\n",
    "- we will apply all these machine learning models on our data with both label encoding and one_hot_encoding"
   ]
  },
  {
   "cell_type": "markdown",
   "id": "4c113d8d",
   "metadata": {},
   "source": [
    "We Evaluate the models based on these performance metrics:\n",
    "\n",
    "- Accuracy: describes the number of correct predictions over all predictions\n",
    "- Precision: is a measure of how many of the positive predictions made are correct (true positives)\n",
    "- Recall: is a measure of how many of the positive cases the classifier correctly predicted, over all the positive cases in the data\n",
    "- F1_score: is a measure combining both precision and recall.\n",
    "- note: F1_score ranges from 0 to 1, where 0 is the worst possible score and 1 is a perfect score indicating that the model predicts each observation correctly\n",
    "- note: Since our data is slightly imbalanced aside accuracy we need to calculate precision, recall and F1_score"
   ]
  },
  {
   "cell_type": "markdown",
   "id": "ca183d72",
   "metadata": {},
   "source": [
    "## Model trainig with labelencoding on features and label"
   ]
  },
  {
   "cell_type": "code",
   "execution_count": 255,
   "id": "69cb9806",
   "metadata": {},
   "outputs": [],
   "source": [
    "# Train-test split for data with label encoding\n",
    "x_train_le,x_test_le, y_train, y_test = train_test_split(x_le,y_le,test_size=0.2,random_state=42)"
   ]
  },
  {
   "cell_type": "code",
   "execution_count": 256,
   "id": "750dd758",
   "metadata": {},
   "outputs": [],
   "source": [
    "# Feature Scaling \n",
    "# The concept of scaling the data is that The dataset may combine features from different dimensions and scales,\n",
    "# which may have an impact on how a model is trained. Therefore outcomes from a model that was trained with unscaled \n",
    "# data may be biased.\n",
    "# we've used standardization (StandardScaler) for scaling our data\n",
    "\n",
    "# standardisation for features\n",
    "ssc = StandardScaler()\n",
    "ssc.fit(x_train_le)\n",
    "x_train = pd.DataFrame(ssc.transform(x_train_le), columns=x_train_le.columns)\n",
    "x_test = pd.DataFrame(ssc.transform(x_test_le), columns=x_test_le.columns)"
   ]
  },
  {
   "cell_type": "markdown",
   "id": "a36e6165",
   "metadata": {},
   "source": [
    "**1. k-nearest neighbors** \n",
    "- The k-nearest neighbors (KNN) is a supervised classification machin learning method for estimating the likelihood that a data point will become a member of one group or another based on what group the data points nearest to it belong to."
   ]
  },
  {
   "cell_type": "code",
   "execution_count": 257,
   "id": "14e3ad4b",
   "metadata": {},
   "outputs": [
    {
     "data": {
      "text/plain": [
       "KNeighborsClassifier()"
      ]
     },
     "execution_count": 257,
     "metadata": {},
     "output_type": "execute_result"
    }
   ],
   "source": [
    "knn = KNeighborsClassifier(n_neighbors=5)\n",
    "knn.fit(x_train, y_train)"
   ]
  },
  {
   "cell_type": "markdown",
   "id": "a239698e",
   "metadata": {},
   "source": [
    "**cross_validation**"
   ]
  },
  {
   "cell_type": "code",
   "execution_count": 258,
   "id": "fa736798",
   "metadata": {},
   "outputs": [
    {
     "name": "stdout",
     "output_type": "stream",
     "text": [
      "Mean accuracy of KNN model with 5-fold cross validation is 0.93\n"
     ]
    }
   ],
   "source": [
    "acc_knn = cross_val_score(estimator = knn, X = x_train, y = y_train, cv = kfold, scoring=scoring)\n",
    "print('Mean accuracy of KNN model with 5-fold cross validation is',acc_knn.mean())"
   ]
  },
  {
   "cell_type": "markdown",
   "id": "7d7834df",
   "metadata": {},
   "source": [
    "**Model Evaluation**"
   ]
  },
  {
   "cell_type": "code",
   "execution_count": 259,
   "id": "2d8e6ada",
   "metadata": {},
   "outputs": [
    {
     "data": {
      "text/html": [
       "<div>\n",
       "<style scoped>\n",
       "    .dataframe tbody tr th:only-of-type {\n",
       "        vertical-align: middle;\n",
       "    }\n",
       "\n",
       "    .dataframe tbody tr th {\n",
       "        vertical-align: top;\n",
       "    }\n",
       "\n",
       "    .dataframe thead th {\n",
       "        text-align: right;\n",
       "    }\n",
       "</style>\n",
       "<table border=\"1\" class=\"dataframe\">\n",
       "  <thead>\n",
       "    <tr style=\"text-align: right;\">\n",
       "      <th></th>\n",
       "      <th>Model</th>\n",
       "      <th>Accuracy_test</th>\n",
       "      <th>Cross Val Accuracy</th>\n",
       "      <th>Precision_test</th>\n",
       "      <th>Recall_test</th>\n",
       "      <th>F1_Score_test</th>\n",
       "      <th>AUC</th>\n",
       "    </tr>\n",
       "  </thead>\n",
       "  <tbody>\n",
       "    <tr>\n",
       "      <th>0</th>\n",
       "      <td>KNN</td>\n",
       "      <td>0.96</td>\n",
       "      <td>0.93</td>\n",
       "      <td>1.0</td>\n",
       "      <td>0.931034</td>\n",
       "      <td>0.964286</td>\n",
       "      <td>0.965517</td>\n",
       "    </tr>\n",
       "  </tbody>\n",
       "</table>\n",
       "</div>"
      ],
      "text/plain": [
       "  Model  Accuracy_test  Cross Val Accuracy  Precision_test  Recall_test  \\\n",
       "0   KNN           0.96                0.93             1.0     0.931034   \n",
       "\n",
       "   F1_Score_test       AUC  \n",
       "0       0.964286  0.965517  "
      ]
     },
     "execution_count": 259,
     "metadata": {},
     "output_type": "execute_result"
    }
   ],
   "source": [
    "predict_test_knn = knn.predict(x_test)\n",
    "acc_test_knn = accuracy_score(y_test, predict_test_knn)\n",
    "auc_knn = roc_auc_score(y_test, predict_test_knn)\n",
    "precision_test_knn = precision_score(y_test, predict_test_knn)\n",
    "recall_test_knn = recall_score(y_test, predict_test_knn)\n",
    "f1_test_knn = f1_score(y_test, predict_test_knn)\n",
    "results_test = pd.DataFrame([['KNN',acc_test_knn, acc_knn.mean(),precision_test_knn ,recall_test_knn, f1_test_knn, auc_knn]],\n",
    "               columns = ['Model', 'Accuracy_test','Cross Val Accuracy', 'Precision_test', 'Recall_test', 'F1_Score_test','AUC'])\n",
    "\n",
    "results_test"
   ]
  },
  {
   "cell_type": "markdown",
   "id": "53e3e710",
   "metadata": {},
   "source": [
    "**2. Support Vector Machine**\n",
    "- SVM is a supervised classification machine learning algorithm that aims to find an optimal boundary between the possible outputs."
   ]
  },
  {
   "cell_type": "code",
   "execution_count": 260,
   "id": "f5a475d7",
   "metadata": {},
   "outputs": [
    {
     "data": {
      "text/plain": [
       "SVC(kernel='linear')"
      ]
     },
     "execution_count": 260,
     "metadata": {},
     "output_type": "execute_result"
    }
   ],
   "source": [
    "svm = SVC(kernel='linear') \n",
    "svm.fit(x_train, y_train)"
   ]
  },
  {
   "cell_type": "markdown",
   "id": "5e235254",
   "metadata": {},
   "source": [
    "**Cross Validation**"
   ]
  },
  {
   "cell_type": "code",
   "execution_count": 261,
   "id": "091732f9",
   "metadata": {},
   "outputs": [
    {
     "name": "stdout",
     "output_type": "stream",
     "text": [
      "Mean accuracy of SVM model with 5-fold cross validation is 0.575\n"
     ]
    }
   ],
   "source": [
    "acc_svm = cross_val_score(estimator = svm, X = x_train, y = y_train, cv = kfold, scoring=scoring)\n",
    "print('Mean accuracy of SVM model with 5-fold cross validation is',acc_svm.mean())"
   ]
  },
  {
   "cell_type": "markdown",
   "id": "ce2bdf84",
   "metadata": {},
   "source": [
    "**Model Evaluation**"
   ]
  },
  {
   "cell_type": "code",
   "execution_count": 262,
   "id": "2935c419",
   "metadata": {},
   "outputs": [
    {
     "data": {
      "text/html": [
       "<div>\n",
       "<style scoped>\n",
       "    .dataframe tbody tr th:only-of-type {\n",
       "        vertical-align: middle;\n",
       "    }\n",
       "\n",
       "    .dataframe tbody tr th {\n",
       "        vertical-align: top;\n",
       "    }\n",
       "\n",
       "    .dataframe thead th {\n",
       "        text-align: right;\n",
       "    }\n",
       "</style>\n",
       "<table border=\"1\" class=\"dataframe\">\n",
       "  <thead>\n",
       "    <tr style=\"text-align: right;\">\n",
       "      <th></th>\n",
       "      <th>Model</th>\n",
       "      <th>Accuracy_test</th>\n",
       "      <th>Cross Val Accuracy</th>\n",
       "      <th>Precision_test</th>\n",
       "      <th>Recall_test</th>\n",
       "      <th>F1_Score_test</th>\n",
       "      <th>AUC</th>\n",
       "    </tr>\n",
       "  </thead>\n",
       "  <tbody>\n",
       "    <tr>\n",
       "      <th>0</th>\n",
       "      <td>KNN</td>\n",
       "      <td>0.96</td>\n",
       "      <td>0.930</td>\n",
       "      <td>1.000000</td>\n",
       "      <td>0.931034</td>\n",
       "      <td>0.964286</td>\n",
       "      <td>0.965517</td>\n",
       "    </tr>\n",
       "    <tr>\n",
       "      <th>1</th>\n",
       "      <td>SVM</td>\n",
       "      <td>0.64</td>\n",
       "      <td>0.575</td>\n",
       "      <td>0.677419</td>\n",
       "      <td>0.724138</td>\n",
       "      <td>0.700000</td>\n",
       "      <td>0.623974</td>\n",
       "    </tr>\n",
       "  </tbody>\n",
       "</table>\n",
       "</div>"
      ],
      "text/plain": [
       "  Model  Accuracy_test  Cross Val Accuracy  Precision_test  Recall_test  \\\n",
       "0   KNN           0.96               0.930        1.000000     0.931034   \n",
       "1   SVM           0.64               0.575        0.677419     0.724138   \n",
       "\n",
       "   F1_Score_test       AUC  \n",
       "0       0.964286  0.965517  \n",
       "1       0.700000  0.623974  "
      ]
     },
     "execution_count": 262,
     "metadata": {},
     "output_type": "execute_result"
    }
   ],
   "source": [
    "predict_test_svm = svm.predict(x_test)\n",
    "acc_test_svm = accuracy_score(y_test, predict_test_svm)\n",
    "auc_svm = roc_auc_score(y_test, predict_test_svm)\n",
    "precision_test_svm = precision_score(y_test, predict_test_svm)\n",
    "recall_test_svm = recall_score(y_test, predict_test_svm)\n",
    "f1_test_svm = f1_score(y_test, predict_test_svm)\n",
    "\n",
    "model_results = pd.DataFrame([['SVM',acc_test_svm, acc_svm.mean(),precision_test_svm ,recall_test_svm, f1_test_svm, auc_svm]],\n",
    "               columns = ['Model', 'Accuracy_test','Cross Val Accuracy', 'Precision_test', 'Recall_test', 'F1_Score_test','AUC'])\n",
    "\n",
    "results_test = results_test.append(model_results, ignore_index = True)\n",
    "results_test"
   ]
  },
  {
   "cell_type": "markdown",
   "id": "3407c1e5",
   "metadata": {},
   "source": [
    "**3. LightGBM**\n",
    "- LightGBM is a gradient boosting framework that uses tree based learning algorithm.\n",
    "- LightGBM grows tree vertically while other tree based learning algorithms grow trees horizontally. It means that LightGBM \n",
    "grows tree leaf-wise while other algorithms grow level-wise"
   ]
  },
  {
   "cell_type": "code",
   "execution_count": 263,
   "id": "57ac1691",
   "metadata": {},
   "outputs": [
    {
     "data": {
      "text/plain": [
       "LGBMClassifier()"
      ]
     },
     "execution_count": 263,
     "metadata": {},
     "output_type": "execute_result"
    }
   ],
   "source": [
    "lgbm = lgb.LGBMClassifier()\n",
    "lgbm.fit(x_train, y_train)"
   ]
  },
  {
   "cell_type": "markdown",
   "id": "3fd88ffa",
   "metadata": {},
   "source": [
    "**Cross Validation**"
   ]
  },
  {
   "cell_type": "code",
   "execution_count": 264,
   "id": "f5ebccf4",
   "metadata": {},
   "outputs": [
    {
     "name": "stdout",
     "output_type": "stream",
     "text": [
      "Mean accuracy of LightGBMClassifier model with 5-fold cross validation is 1.0\n"
     ]
    }
   ],
   "source": [
    "acc_lgbm = cross_val_score(estimator = lgbm, X = x_train, y = y_train, cv = kfold, scoring=scoring)\n",
    "print('Mean accuracy of LightGBMClassifier model with 5-fold cross validation is',acc_lgbm.mean())"
   ]
  },
  {
   "cell_type": "markdown",
   "id": "023833dc",
   "metadata": {},
   "source": [
    "**Model Evaluation**"
   ]
  },
  {
   "cell_type": "code",
   "execution_count": 265,
   "id": "078641fe",
   "metadata": {},
   "outputs": [
    {
     "data": {
      "text/html": [
       "<div>\n",
       "<style scoped>\n",
       "    .dataframe tbody tr th:only-of-type {\n",
       "        vertical-align: middle;\n",
       "    }\n",
       "\n",
       "    .dataframe tbody tr th {\n",
       "        vertical-align: top;\n",
       "    }\n",
       "\n",
       "    .dataframe thead th {\n",
       "        text-align: right;\n",
       "    }\n",
       "</style>\n",
       "<table border=\"1\" class=\"dataframe\">\n",
       "  <thead>\n",
       "    <tr style=\"text-align: right;\">\n",
       "      <th></th>\n",
       "      <th>Model</th>\n",
       "      <th>Accuracy_test</th>\n",
       "      <th>Cross Val Accuracy</th>\n",
       "      <th>Precision_test</th>\n",
       "      <th>Recall_test</th>\n",
       "      <th>F1_Score_test</th>\n",
       "      <th>AUC</th>\n",
       "    </tr>\n",
       "  </thead>\n",
       "  <tbody>\n",
       "    <tr>\n",
       "      <th>0</th>\n",
       "      <td>KNN</td>\n",
       "      <td>0.96</td>\n",
       "      <td>0.930</td>\n",
       "      <td>1.000000</td>\n",
       "      <td>0.931034</td>\n",
       "      <td>0.964286</td>\n",
       "      <td>0.965517</td>\n",
       "    </tr>\n",
       "    <tr>\n",
       "      <th>1</th>\n",
       "      <td>SVM</td>\n",
       "      <td>0.64</td>\n",
       "      <td>0.575</td>\n",
       "      <td>0.677419</td>\n",
       "      <td>0.724138</td>\n",
       "      <td>0.700000</td>\n",
       "      <td>0.623974</td>\n",
       "    </tr>\n",
       "    <tr>\n",
       "      <th>2</th>\n",
       "      <td>LightGBM</td>\n",
       "      <td>1.00</td>\n",
       "      <td>1.000</td>\n",
       "      <td>1.000000</td>\n",
       "      <td>1.000000</td>\n",
       "      <td>1.000000</td>\n",
       "      <td>1.000000</td>\n",
       "    </tr>\n",
       "  </tbody>\n",
       "</table>\n",
       "</div>"
      ],
      "text/plain": [
       "      Model  Accuracy_test  Cross Val Accuracy  Precision_test  Recall_test  \\\n",
       "0       KNN           0.96               0.930        1.000000     0.931034   \n",
       "1       SVM           0.64               0.575        0.677419     0.724138   \n",
       "2  LightGBM           1.00               1.000        1.000000     1.000000   \n",
       "\n",
       "   F1_Score_test       AUC  \n",
       "0       0.964286  0.965517  \n",
       "1       0.700000  0.623974  \n",
       "2       1.000000  1.000000  "
      ]
     },
     "execution_count": 265,
     "metadata": {},
     "output_type": "execute_result"
    }
   ],
   "source": [
    "predict_test_lgbm = lgbm.predict(x_test)\n",
    "acc_test_lgbm = accuracy_score(y_test, predict_test_lgbm)\n",
    "auc_lgbm = roc_auc_score(y_test, predict_test_lgbm)\n",
    "precision_test_lgbm = precision_score(y_test, predict_test_lgbm)\n",
    "recall_test_lgbm = recall_score(y_test, predict_test_lgbm)\n",
    "f1_test_lgbm = f1_score(y_test, predict_test_lgbm)\n",
    "\n",
    "model_results = pd.DataFrame([['LightGBM',acc_test_lgbm, acc_lgbm.mean(),precision_test_lgbm ,recall_test_lgbm, f1_test_lgbm, auc_lgbm]],\n",
    "               columns = ['Model', 'Accuracy_test','Cross Val Accuracy', 'Precision_test', 'Recall_test', 'F1_Score_test','AUC'])\n",
    "\n",
    "results_test = results_test.append(model_results, ignore_index = True)\n",
    "results_test"
   ]
  },
  {
   "cell_type": "markdown",
   "id": "dd81799b",
   "metadata": {},
   "source": [
    "**4. GradientBoostingClassifier**\n",
    "- is a functional gradient algorithm that repeatedly selects a function that leads in the direction of a weak hypothesis or negative gradient so that it can minimize a loss function. Gradient boosting classifier combines several weak learning models to produce a powerful predicting model."
   ]
  },
  {
   "cell_type": "code",
   "execution_count": 266,
   "id": "07334771",
   "metadata": {},
   "outputs": [
    {
     "data": {
      "text/plain": [
       "GradientBoostingClassifier()"
      ]
     },
     "execution_count": 266,
     "metadata": {},
     "output_type": "execute_result"
    }
   ],
   "source": [
    "xgb = GradientBoostingClassifier()\n",
    "xgb.fit(x_train, y_train)"
   ]
  },
  {
   "cell_type": "markdown",
   "id": "2374c818",
   "metadata": {},
   "source": [
    "**Cross_Validation**"
   ]
  },
  {
   "cell_type": "code",
   "execution_count": 267,
   "id": "cec80df2",
   "metadata": {},
   "outputs": [
    {
     "name": "stdout",
     "output_type": "stream",
     "text": [
      "Mean accuracy of GradientBoosting model with 5-fold cross validation is 1.0\n"
     ]
    }
   ],
   "source": [
    "acc_xgb = cross_val_score(estimator = xgb, X = x_train, y = y_train, cv = kfold, scoring=scoring)\n",
    "print('Mean accuracy of GradientBoosting model with 5-fold cross validation is',acc_xgb.mean())"
   ]
  },
  {
   "cell_type": "code",
   "execution_count": 268,
   "id": "938c16d1",
   "metadata": {},
   "outputs": [
    {
     "data": {
      "text/html": [
       "<div>\n",
       "<style scoped>\n",
       "    .dataframe tbody tr th:only-of-type {\n",
       "        vertical-align: middle;\n",
       "    }\n",
       "\n",
       "    .dataframe tbody tr th {\n",
       "        vertical-align: top;\n",
       "    }\n",
       "\n",
       "    .dataframe thead th {\n",
       "        text-align: right;\n",
       "    }\n",
       "</style>\n",
       "<table border=\"1\" class=\"dataframe\">\n",
       "  <thead>\n",
       "    <tr style=\"text-align: right;\">\n",
       "      <th></th>\n",
       "      <th>Model</th>\n",
       "      <th>Accuracy_test</th>\n",
       "      <th>Cross Val Accuracy</th>\n",
       "      <th>Precision_test</th>\n",
       "      <th>Recall_test</th>\n",
       "      <th>F1_Score_test</th>\n",
       "      <th>AUC</th>\n",
       "    </tr>\n",
       "  </thead>\n",
       "  <tbody>\n",
       "    <tr>\n",
       "      <th>0</th>\n",
       "      <td>KNN</td>\n",
       "      <td>0.96</td>\n",
       "      <td>0.930</td>\n",
       "      <td>1.000000</td>\n",
       "      <td>0.931034</td>\n",
       "      <td>0.964286</td>\n",
       "      <td>0.965517</td>\n",
       "    </tr>\n",
       "    <tr>\n",
       "      <th>1</th>\n",
       "      <td>SVM</td>\n",
       "      <td>0.64</td>\n",
       "      <td>0.575</td>\n",
       "      <td>0.677419</td>\n",
       "      <td>0.724138</td>\n",
       "      <td>0.700000</td>\n",
       "      <td>0.623974</td>\n",
       "    </tr>\n",
       "    <tr>\n",
       "      <th>2</th>\n",
       "      <td>LightGBM</td>\n",
       "      <td>1.00</td>\n",
       "      <td>1.000</td>\n",
       "      <td>1.000000</td>\n",
       "      <td>1.000000</td>\n",
       "      <td>1.000000</td>\n",
       "      <td>1.000000</td>\n",
       "    </tr>\n",
       "    <tr>\n",
       "      <th>3</th>\n",
       "      <td>GradientBoosting</td>\n",
       "      <td>1.00</td>\n",
       "      <td>1.000</td>\n",
       "      <td>1.000000</td>\n",
       "      <td>1.000000</td>\n",
       "      <td>1.000000</td>\n",
       "      <td>1.000000</td>\n",
       "    </tr>\n",
       "  </tbody>\n",
       "</table>\n",
       "</div>"
      ],
      "text/plain": [
       "              Model  Accuracy_test  Cross Val Accuracy  Precision_test  \\\n",
       "0               KNN           0.96               0.930        1.000000   \n",
       "1               SVM           0.64               0.575        0.677419   \n",
       "2          LightGBM           1.00               1.000        1.000000   \n",
       "3  GradientBoosting           1.00               1.000        1.000000   \n",
       "\n",
       "   Recall_test  F1_Score_test       AUC  \n",
       "0     0.931034       0.964286  0.965517  \n",
       "1     0.724138       0.700000  0.623974  \n",
       "2     1.000000       1.000000  1.000000  \n",
       "3     1.000000       1.000000  1.000000  "
      ]
     },
     "execution_count": 268,
     "metadata": {},
     "output_type": "execute_result"
    }
   ],
   "source": [
    "predict_test_xgb = xgb.predict(x_test)\n",
    "acc_test_xgb = accuracy_score(y_test, predict_test_xgb)\n",
    "auc_xgb = roc_auc_score(y_test, predict_test_xgb)\n",
    "precision_test_xgb= precision_score(y_test, predict_test_xgb)\n",
    "recall_test_xgb = recall_score(y_test, predict_test_xgb)\n",
    "f1_test_xgb = f1_score(y_test, predict_test_xgb)\n",
    "\n",
    "model_results = pd.DataFrame([['GradientBoosting',acc_test_xgb, acc_xgb.mean(),precision_test_xgb ,recall_test_xgb, f1_test_xgb, auc_xgb]],\n",
    "               columns = ['Model', 'Accuracy_test','Cross Val Accuracy', 'Precision_test', 'Recall_test', 'F1_Score_test','AUC'])\n",
    "\n",
    "results_test = results_test.append(model_results, ignore_index = True)\n",
    "results_test"
   ]
  },
  {
   "cell_type": "markdown",
   "id": "4a827ba1",
   "metadata": {},
   "source": [
    "**Result for ML models on the data encoded by label encoding:**\n",
    "1. As we can see from the table all of the models perfoms good except SVM. \n",
    "2. LightGBM\tand GradientBoosting have highest performance metrics.\n",
    "3. AUC which is Area Under the ROC Curve for the GradientBoosting and LightGBM are the highest.As we know the higher AUC the better the classifier performs. \n",
    "4. We can conclude that our models trained the data very good."
   ]
  },
  {
   "cell_type": "markdown",
   "id": "812523b4",
   "metadata": {},
   "source": [
    "## Model trainig with one_hot_encoder on features and labelencoder on label"
   ]
  },
  {
   "cell_type": "code",
   "execution_count": 269,
   "id": "eaa38bee",
   "metadata": {},
   "outputs": [
    {
     "data": {
      "text/html": [
       "<div>\n",
       "<style scoped>\n",
       "    .dataframe tbody tr th:only-of-type {\n",
       "        vertical-align: middle;\n",
       "    }\n",
       "\n",
       "    .dataframe tbody tr th {\n",
       "        vertical-align: top;\n",
       "    }\n",
       "\n",
       "    .dataframe thead th {\n",
       "        text-align: right;\n",
       "    }\n",
       "</style>\n",
       "<table border=\"1\" class=\"dataframe\">\n",
       "  <thead>\n",
       "    <tr style=\"text-align: right;\">\n",
       "      <th></th>\n",
       "      <th>class</th>\n",
       "    </tr>\n",
       "  </thead>\n",
       "  <tbody>\n",
       "    <tr>\n",
       "      <th>0</th>\n",
       "      <td>1</td>\n",
       "    </tr>\n",
       "    <tr>\n",
       "      <th>1</th>\n",
       "      <td>1</td>\n",
       "    </tr>\n",
       "    <tr>\n",
       "      <th>2</th>\n",
       "      <td>1</td>\n",
       "    </tr>\n",
       "    <tr>\n",
       "      <th>3</th>\n",
       "      <td>1</td>\n",
       "    </tr>\n",
       "    <tr>\n",
       "      <th>4</th>\n",
       "      <td>1</td>\n",
       "    </tr>\n",
       "  </tbody>\n",
       "</table>\n",
       "</div>"
      ],
      "text/plain": [
       "   class\n",
       "0      1\n",
       "1      1\n",
       "2      1\n",
       "3      1\n",
       "4      1"
      ]
     },
     "execution_count": 269,
     "metadata": {},
     "output_type": "execute_result"
    }
   ],
   "source": [
    "le = preprocessing.LabelEncoder()\n",
    "y_le = y_df.apply(le.fit_transform)\n",
    "y_le.head()"
   ]
  },
  {
   "cell_type": "code",
   "execution_count": 270,
   "id": "3dbf530d",
   "metadata": {},
   "outputs": [],
   "source": [
    "# Train-test split for data with one_hot_encoding\n",
    "x_train,x_test, y_train, y_test = train_test_split(x_ohe,y_le, test_size=0.2,random_state=42)"
   ]
  },
  {
   "cell_type": "markdown",
   "id": "554851ba",
   "metadata": {},
   "source": [
    "**1. k-nearest neighbors** \n",
    "- The k-nearest neighbors (KNN) is a supervised classification machin learning method for estimating the likelihood that a data point will become a member of one group or another based on what group the data points nearest to it belong to."
   ]
  },
  {
   "cell_type": "code",
   "execution_count": 271,
   "id": "86221c09",
   "metadata": {},
   "outputs": [
    {
     "data": {
      "text/plain": [
       "KNeighborsClassifier()"
      ]
     },
     "execution_count": 271,
     "metadata": {},
     "output_type": "execute_result"
    }
   ],
   "source": [
    "knn = KNeighborsClassifier(n_neighbors=5)\n",
    "knn.fit(x_train, y_train)"
   ]
  },
  {
   "cell_type": "markdown",
   "id": "b8471f9b",
   "metadata": {},
   "source": [
    "**Cross_Validation**"
   ]
  },
  {
   "cell_type": "code",
   "execution_count": 272,
   "id": "7cd77a45",
   "metadata": {},
   "outputs": [
    {
     "name": "stdout",
     "output_type": "stream",
     "text": [
      "Mean accuracy of KNN model with 5-fold cross validation is 0.9949999999999999\n"
     ]
    }
   ],
   "source": [
    "acc_knn = cross_val_score(estimator = knn, X = x_train, y = y_train, cv = kfold, scoring=scoring)\n",
    "print('Mean accuracy of KNN model with 5-fold cross validation is',acc_knn.mean())"
   ]
  },
  {
   "cell_type": "code",
   "execution_count": 273,
   "id": "eda53166",
   "metadata": {},
   "outputs": [
    {
     "data": {
      "text/html": [
       "<div>\n",
       "<style scoped>\n",
       "    .dataframe tbody tr th:only-of-type {\n",
       "        vertical-align: middle;\n",
       "    }\n",
       "\n",
       "    .dataframe tbody tr th {\n",
       "        vertical-align: top;\n",
       "    }\n",
       "\n",
       "    .dataframe thead th {\n",
       "        text-align: right;\n",
       "    }\n",
       "</style>\n",
       "<table border=\"1\" class=\"dataframe\">\n",
       "  <thead>\n",
       "    <tr style=\"text-align: right;\">\n",
       "      <th></th>\n",
       "      <th>Model</th>\n",
       "      <th>Accuracy_test</th>\n",
       "      <th>Cross Val Accuracy</th>\n",
       "      <th>Precision_test</th>\n",
       "      <th>Recall_test</th>\n",
       "      <th>F1_Score_test</th>\n",
       "      <th>AUC</th>\n",
       "    </tr>\n",
       "  </thead>\n",
       "  <tbody>\n",
       "    <tr>\n",
       "      <th>0</th>\n",
       "      <td>KNN</td>\n",
       "      <td>1.0</td>\n",
       "      <td>0.995</td>\n",
       "      <td>1.0</td>\n",
       "      <td>1.0</td>\n",
       "      <td>1.0</td>\n",
       "      <td>1.0</td>\n",
       "    </tr>\n",
       "  </tbody>\n",
       "</table>\n",
       "</div>"
      ],
      "text/plain": [
       "  Model  Accuracy_test  Cross Val Accuracy  Precision_test  Recall_test  \\\n",
       "0   KNN            1.0               0.995             1.0          1.0   \n",
       "\n",
       "   F1_Score_test  AUC  \n",
       "0            1.0  1.0  "
      ]
     },
     "execution_count": 273,
     "metadata": {},
     "output_type": "execute_result"
    }
   ],
   "source": [
    "predict_test_knn = knn.predict(x_test)\n",
    "acc_test_knn = accuracy_score(y_test, predict_test_knn)\n",
    "auc_knn = roc_auc_score(y_test, predict_test_knn)\n",
    "precision_test_knn = precision_score(y_test, predict_test_knn)\n",
    "recall_test_knn = recall_score(y_test, predict_test_knn)\n",
    "f1_test_knn = f1_score(y_test, predict_test_knn)\n",
    "results_test = pd.DataFrame([['KNN',acc_test_knn, acc_knn.mean(),precision_test_knn ,recall_test_knn, f1_test_knn, auc_knn]],\n",
    "               columns = ['Model', 'Accuracy_test','Cross Val Accuracy', 'Precision_test', 'Recall_test', 'F1_Score_test','AUC'])\n",
    "\n",
    "results_test"
   ]
  },
  {
   "cell_type": "markdown",
   "id": "3b17f855",
   "metadata": {},
   "source": [
    "**2. Support Vector Machine**\n",
    "- SVM is a supervised classification machine learning algorithm that aims to find an optimal boundary between the possible outputs."
   ]
  },
  {
   "cell_type": "code",
   "execution_count": 274,
   "id": "75b9f881",
   "metadata": {},
   "outputs": [
    {
     "data": {
      "text/plain": [
       "SVC(kernel='linear')"
      ]
     },
     "execution_count": 274,
     "metadata": {},
     "output_type": "execute_result"
    }
   ],
   "source": [
    "svm = SVC(kernel='linear') \n",
    "svm.fit(x_train, y_train)"
   ]
  },
  {
   "cell_type": "markdown",
   "id": "2e5f57ac",
   "metadata": {},
   "source": [
    "**Cross Validation**"
   ]
  },
  {
   "cell_type": "code",
   "execution_count": 275,
   "id": "3b21bf29",
   "metadata": {},
   "outputs": [
    {
     "name": "stdout",
     "output_type": "stream",
     "text": [
      "Mean accuracy of SVM model with 5-fold cross validation is 0.9949999999999999\n"
     ]
    }
   ],
   "source": [
    "acc_svm = cross_val_score(estimator = svm, X = x_train, y = y_train, cv = kfold, scoring=scoring)\n",
    "print('Mean accuracy of SVM model with 5-fold cross validation is',acc_svm.mean())"
   ]
  },
  {
   "cell_type": "markdown",
   "id": "c52ccaba",
   "metadata": {},
   "source": [
    "**Model_evaluation**"
   ]
  },
  {
   "cell_type": "code",
   "execution_count": 276,
   "id": "8fc83704",
   "metadata": {},
   "outputs": [
    {
     "data": {
      "text/html": [
       "<div>\n",
       "<style scoped>\n",
       "    .dataframe tbody tr th:only-of-type {\n",
       "        vertical-align: middle;\n",
       "    }\n",
       "\n",
       "    .dataframe tbody tr th {\n",
       "        vertical-align: top;\n",
       "    }\n",
       "\n",
       "    .dataframe thead th {\n",
       "        text-align: right;\n",
       "    }\n",
       "</style>\n",
       "<table border=\"1\" class=\"dataframe\">\n",
       "  <thead>\n",
       "    <tr style=\"text-align: right;\">\n",
       "      <th></th>\n",
       "      <th>Model</th>\n",
       "      <th>Accuracy_test</th>\n",
       "      <th>Cross Val Accuracy</th>\n",
       "      <th>Precision_test</th>\n",
       "      <th>Recall_test</th>\n",
       "      <th>F1_Score_test</th>\n",
       "      <th>AUC</th>\n",
       "    </tr>\n",
       "  </thead>\n",
       "  <tbody>\n",
       "    <tr>\n",
       "      <th>0</th>\n",
       "      <td>KNN</td>\n",
       "      <td>1.0</td>\n",
       "      <td>0.995</td>\n",
       "      <td>1.0</td>\n",
       "      <td>1.0</td>\n",
       "      <td>1.0</td>\n",
       "      <td>1.0</td>\n",
       "    </tr>\n",
       "    <tr>\n",
       "      <th>1</th>\n",
       "      <td>SVM</td>\n",
       "      <td>1.0</td>\n",
       "      <td>0.995</td>\n",
       "      <td>1.0</td>\n",
       "      <td>1.0</td>\n",
       "      <td>1.0</td>\n",
       "      <td>1.0</td>\n",
       "    </tr>\n",
       "  </tbody>\n",
       "</table>\n",
       "</div>"
      ],
      "text/plain": [
       "  Model  Accuracy_test  Cross Val Accuracy  Precision_test  Recall_test  \\\n",
       "0   KNN            1.0               0.995             1.0          1.0   \n",
       "1   SVM            1.0               0.995             1.0          1.0   \n",
       "\n",
       "   F1_Score_test  AUC  \n",
       "0            1.0  1.0  \n",
       "1            1.0  1.0  "
      ]
     },
     "execution_count": 276,
     "metadata": {},
     "output_type": "execute_result"
    }
   ],
   "source": [
    "predict_test_svm = svm.predict(x_test)\n",
    "acc_test_svm = accuracy_score(y_test, predict_test_svm)\n",
    "auc_svm = roc_auc_score(y_test, predict_test_svm)\n",
    "precision_test_svm = precision_score(y_test, predict_test_svm)\n",
    "recall_test_svm = recall_score(y_test, predict_test_svm)\n",
    "f1_test_svm = f1_score(y_test, predict_test_svm)\n",
    "\n",
    "model_results = pd.DataFrame([['SVM',acc_test_svm, acc_svm.mean(),precision_test_svm ,recall_test_svm, f1_test_svm, auc_svm]],\n",
    "               columns = ['Model', 'Accuracy_test','Cross Val Accuracy', 'Precision_test', 'Recall_test', 'F1_Score_test','AUC'])\n",
    "\n",
    "results_test = results_test.append(model_results, ignore_index = True)\n",
    "results_test"
   ]
  },
  {
   "cell_type": "markdown",
   "id": "9343638a",
   "metadata": {},
   "source": [
    "**3. LightGBM**\n",
    "- LightGBM is a gradient boosting framework that uses tree based learning algorithm.\n",
    "- LightGBM grows tree vertically while other tree based learning algorithms grow trees horizontally. It means that LightGBM \n",
    "grows tree leaf-wise while other algorithms grow level-wise"
   ]
  },
  {
   "cell_type": "code",
   "execution_count": 277,
   "id": "eae490d8",
   "metadata": {},
   "outputs": [
    {
     "data": {
      "text/plain": [
       "LGBMClassifier()"
      ]
     },
     "execution_count": 277,
     "metadata": {},
     "output_type": "execute_result"
    }
   ],
   "source": [
    "lgbm = lgb.LGBMClassifier()\n",
    "lgbm.fit(x_train, y_train)"
   ]
  },
  {
   "cell_type": "markdown",
   "id": "acb6a5fb",
   "metadata": {},
   "source": [
    "**Cross validation**"
   ]
  },
  {
   "cell_type": "code",
   "execution_count": 278,
   "id": "e256f7a8",
   "metadata": {},
   "outputs": [
    {
     "name": "stdout",
     "output_type": "stream",
     "text": [
      "Mean accuracy of LightGBMClassifier model with 5-fold cross validation is 1.0\n"
     ]
    }
   ],
   "source": [
    "acc_lgbm = cross_val_score(estimator = lgbm, X = x_train, y = y_train, cv = kfold, scoring=scoring)\n",
    "print('Mean accuracy of LightGBMClassifier model with 5-fold cross validation is',acc_lgbm.mean())"
   ]
  },
  {
   "cell_type": "markdown",
   "id": "62b235db",
   "metadata": {},
   "source": [
    "**Model Evaluation**"
   ]
  },
  {
   "cell_type": "code",
   "execution_count": 279,
   "id": "753b09f7",
   "metadata": {},
   "outputs": [
    {
     "data": {
      "text/html": [
       "<div>\n",
       "<style scoped>\n",
       "    .dataframe tbody tr th:only-of-type {\n",
       "        vertical-align: middle;\n",
       "    }\n",
       "\n",
       "    .dataframe tbody tr th {\n",
       "        vertical-align: top;\n",
       "    }\n",
       "\n",
       "    .dataframe thead th {\n",
       "        text-align: right;\n",
       "    }\n",
       "</style>\n",
       "<table border=\"1\" class=\"dataframe\">\n",
       "  <thead>\n",
       "    <tr style=\"text-align: right;\">\n",
       "      <th></th>\n",
       "      <th>Model</th>\n",
       "      <th>Accuracy_test</th>\n",
       "      <th>Cross Val Accuracy</th>\n",
       "      <th>Precision_test</th>\n",
       "      <th>Recall_test</th>\n",
       "      <th>F1_Score_test</th>\n",
       "      <th>AUC</th>\n",
       "    </tr>\n",
       "  </thead>\n",
       "  <tbody>\n",
       "    <tr>\n",
       "      <th>0</th>\n",
       "      <td>KNN</td>\n",
       "      <td>1.0</td>\n",
       "      <td>0.995</td>\n",
       "      <td>1.0</td>\n",
       "      <td>1.0</td>\n",
       "      <td>1.0</td>\n",
       "      <td>1.0</td>\n",
       "    </tr>\n",
       "    <tr>\n",
       "      <th>1</th>\n",
       "      <td>SVM</td>\n",
       "      <td>1.0</td>\n",
       "      <td>0.995</td>\n",
       "      <td>1.0</td>\n",
       "      <td>1.0</td>\n",
       "      <td>1.0</td>\n",
       "      <td>1.0</td>\n",
       "    </tr>\n",
       "    <tr>\n",
       "      <th>2</th>\n",
       "      <td>LightGBM</td>\n",
       "      <td>1.0</td>\n",
       "      <td>1.000</td>\n",
       "      <td>1.0</td>\n",
       "      <td>1.0</td>\n",
       "      <td>1.0</td>\n",
       "      <td>1.0</td>\n",
       "    </tr>\n",
       "  </tbody>\n",
       "</table>\n",
       "</div>"
      ],
      "text/plain": [
       "      Model  Accuracy_test  Cross Val Accuracy  Precision_test  Recall_test  \\\n",
       "0       KNN            1.0               0.995             1.0          1.0   \n",
       "1       SVM            1.0               0.995             1.0          1.0   \n",
       "2  LightGBM            1.0               1.000             1.0          1.0   \n",
       "\n",
       "   F1_Score_test  AUC  \n",
       "0            1.0  1.0  \n",
       "1            1.0  1.0  \n",
       "2            1.0  1.0  "
      ]
     },
     "execution_count": 279,
     "metadata": {},
     "output_type": "execute_result"
    }
   ],
   "source": [
    "predict_test_lgbm = lgbm.predict(x_test)\n",
    "acc_test_lgbm = accuracy_score(y_test, predict_test_lgbm)\n",
    "auc_lgbm = roc_auc_score(y_test, predict_test_lgbm)\n",
    "precision_test_lgbm = precision_score(y_test, predict_test_lgbm)\n",
    "recall_test_lgbm = recall_score(y_test, predict_test_lgbm)\n",
    "f1_test_lgbm = f1_score(y_test, predict_test_lgbm)\n",
    "\n",
    "model_results = pd.DataFrame([['LightGBM',acc_test_lgbm, acc_lgbm.mean(),precision_test_lgbm ,recall_test_lgbm, f1_test_lgbm, auc_lgbm]],\n",
    "               columns = ['Model', 'Accuracy_test','Cross Val Accuracy', 'Precision_test', 'Recall_test', 'F1_Score_test','AUC'])\n",
    "\n",
    "results_test = results_test.append(model_results, ignore_index = True)\n",
    "results_test"
   ]
  },
  {
   "cell_type": "markdown",
   "id": "3ee30975",
   "metadata": {},
   "source": [
    "**4. GradientBoostingClassifier**\n",
    "- is a functional gradient algorithm that repeatedly selects a function that leads in the direction of a weak hypothesis or negative gradient so that it can minimize a loss function. Gradient boosting classifier combines several weak learning models to produce a powerful predicting model."
   ]
  },
  {
   "cell_type": "code",
   "execution_count": 280,
   "id": "99c914f4",
   "metadata": {},
   "outputs": [
    {
     "data": {
      "text/plain": [
       "GradientBoostingClassifier()"
      ]
     },
     "execution_count": 280,
     "metadata": {},
     "output_type": "execute_result"
    }
   ],
   "source": [
    "xgb = GradientBoostingClassifier()\n",
    "xgb.fit(x_train, y_train)"
   ]
  },
  {
   "cell_type": "markdown",
   "id": "6a207a70",
   "metadata": {},
   "source": [
    "**Cross Validation**"
   ]
  },
  {
   "cell_type": "code",
   "execution_count": 281,
   "id": "0824c404",
   "metadata": {},
   "outputs": [
    {
     "name": "stdout",
     "output_type": "stream",
     "text": [
      "Mean accuracy of GradientBoosting model with 5-fold cross validation is 0.9949999999999999\n"
     ]
    }
   ],
   "source": [
    "acc_xgb = cross_val_score(estimator = xgb, X = x_train, y = y_train, cv = kfold, scoring=scoring)\n",
    "print('Mean accuracy of GradientBoosting model with 5-fold cross validation is',acc_xgb.mean())"
   ]
  },
  {
   "cell_type": "markdown",
   "id": "8337abf5",
   "metadata": {},
   "source": [
    "**Model Evaluation**"
   ]
  },
  {
   "cell_type": "code",
   "execution_count": 282,
   "id": "5b6a07dc",
   "metadata": {},
   "outputs": [
    {
     "data": {
      "text/html": [
       "<div>\n",
       "<style scoped>\n",
       "    .dataframe tbody tr th:only-of-type {\n",
       "        vertical-align: middle;\n",
       "    }\n",
       "\n",
       "    .dataframe tbody tr th {\n",
       "        vertical-align: top;\n",
       "    }\n",
       "\n",
       "    .dataframe thead th {\n",
       "        text-align: right;\n",
       "    }\n",
       "</style>\n",
       "<table border=\"1\" class=\"dataframe\">\n",
       "  <thead>\n",
       "    <tr style=\"text-align: right;\">\n",
       "      <th></th>\n",
       "      <th>Model</th>\n",
       "      <th>Accuracy_test</th>\n",
       "      <th>Cross Val Accuracy</th>\n",
       "      <th>Precision_test</th>\n",
       "      <th>Recall_test</th>\n",
       "      <th>F1_Score_test</th>\n",
       "      <th>AUC</th>\n",
       "    </tr>\n",
       "  </thead>\n",
       "  <tbody>\n",
       "    <tr>\n",
       "      <th>0</th>\n",
       "      <td>KNN</td>\n",
       "      <td>1.0</td>\n",
       "      <td>0.995</td>\n",
       "      <td>1.0</td>\n",
       "      <td>1.0</td>\n",
       "      <td>1.0</td>\n",
       "      <td>1.0</td>\n",
       "    </tr>\n",
       "    <tr>\n",
       "      <th>1</th>\n",
       "      <td>SVM</td>\n",
       "      <td>1.0</td>\n",
       "      <td>0.995</td>\n",
       "      <td>1.0</td>\n",
       "      <td>1.0</td>\n",
       "      <td>1.0</td>\n",
       "      <td>1.0</td>\n",
       "    </tr>\n",
       "    <tr>\n",
       "      <th>2</th>\n",
       "      <td>LightGBM</td>\n",
       "      <td>1.0</td>\n",
       "      <td>1.000</td>\n",
       "      <td>1.0</td>\n",
       "      <td>1.0</td>\n",
       "      <td>1.0</td>\n",
       "      <td>1.0</td>\n",
       "    </tr>\n",
       "    <tr>\n",
       "      <th>3</th>\n",
       "      <td>GradientBoosting</td>\n",
       "      <td>1.0</td>\n",
       "      <td>0.995</td>\n",
       "      <td>1.0</td>\n",
       "      <td>1.0</td>\n",
       "      <td>1.0</td>\n",
       "      <td>1.0</td>\n",
       "    </tr>\n",
       "  </tbody>\n",
       "</table>\n",
       "</div>"
      ],
      "text/plain": [
       "              Model  Accuracy_test  Cross Val Accuracy  Precision_test  \\\n",
       "0               KNN            1.0               0.995             1.0   \n",
       "1               SVM            1.0               0.995             1.0   \n",
       "2          LightGBM            1.0               1.000             1.0   \n",
       "3  GradientBoosting            1.0               0.995             1.0   \n",
       "\n",
       "   Recall_test  F1_Score_test  AUC  \n",
       "0          1.0            1.0  1.0  \n",
       "1          1.0            1.0  1.0  \n",
       "2          1.0            1.0  1.0  \n",
       "3          1.0            1.0  1.0  "
      ]
     },
     "execution_count": 282,
     "metadata": {},
     "output_type": "execute_result"
    }
   ],
   "source": [
    "predict_test_xgb = xgb.predict(x_test)\n",
    "acc_test_xgb = accuracy_score(y_test, predict_test_xgb)\n",
    "auc_xgb = roc_auc_score(y_test, predict_test_xgb)\n",
    "precision_test_xgb= precision_score(y_test, predict_test_xgb)\n",
    "recall_test_xgb = recall_score(y_test, predict_test_xgb)\n",
    "f1_test_xgb = f1_score(y_test, predict_test_xgb)\n",
    "\n",
    "model_results = pd.DataFrame([['GradientBoosting',acc_test_xgb, acc_xgb.mean(),precision_test_xgb ,recall_test_xgb, f1_test_xgb, auc_xgb]],\n",
    "               columns = ['Model', 'Accuracy_test','Cross Val Accuracy', 'Precision_test', 'Recall_test', 'F1_Score_test','AUC'])\n",
    "\n",
    "results_test = results_test.append(model_results, ignore_index = True)\n",
    "results_test"
   ]
  },
  {
   "cell_type": "markdown",
   "id": "b81b40f9",
   "metadata": {},
   "source": [
    "**Result for ML models on the features encoded by one_hot_encoding:**\n",
    "1. As we can see from the table all of the models perfoms good. \n",
    "2. We can conclude that our models trained the data very good."
   ]
  },
  {
   "cell_type": "code",
   "execution_count": null,
   "id": "b4ec0578",
   "metadata": {},
   "outputs": [],
   "source": []
  }
 ],
 "metadata": {
  "kernelspec": {
   "display_name": "Python 3 (ipykernel)",
   "language": "python",
   "name": "python3"
  },
  "language_info": {
   "codemirror_mode": {
    "name": "ipython",
    "version": 3
   },
   "file_extension": ".py",
   "mimetype": "text/x-python",
   "name": "python",
   "nbconvert_exporter": "python",
   "pygments_lexer": "ipython3",
   "version": "3.9.7"
  }
 },
 "nbformat": 4,
 "nbformat_minor": 5
}
